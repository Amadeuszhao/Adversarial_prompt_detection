{
 "cells": [
  {
   "cell_type": "code",
   "execution_count": 1,
   "id": "5a83632d",
   "metadata": {},
   "outputs": [],
   "source": [
    "import json"
   ]
  },
  {
   "cell_type": "code",
   "execution_count": 2,
   "id": "c0948256",
   "metadata": {},
   "outputs": [],
   "source": [
    "train_adv_path = \"/root/autodl-tmp/casper/judgement_adv/\"\n",
    "train_normal_path = \"/root/autodl-tmp/casper/judgement_normal/\""
   ]
  },
  {
   "cell_type": "code",
   "execution_count": 3,
   "id": "8d5e0ff8",
   "metadata": {},
   "outputs": [],
   "source": [
    "import os\n",
    "train_adv_data_layer = []\n",
    "for file in os.listdir(train_adv_path):\n",
    "    with open(train_adv_path+file, 'r') as f:\n",
    "        temp = json.load(f)\n",
    "        train_adv_data_layer.append(temp['layerAIE'])"
   ]
  },
  {
   "cell_type": "code",
   "execution_count": 4,
   "id": "1e9ae915",
   "metadata": {},
   "outputs": [],
   "source": [
    "import os\n",
    "train_normal_data_layer = []\n",
    "for file in os.listdir(train_normal_path):\n",
    "    with open(train_normal_path+file, 'r') as f:\n",
    "        temp = json.load(f)\n",
    "        train_normal_data_layer.append(temp['layerAIE'])"
   ]
  },
  {
   "cell_type": "code",
   "execution_count": 15,
   "id": "c8eb78e4-9a51-4ede-a5d5-b4a4c9041be3",
   "metadata": {},
   "outputs": [],
   "source": [
    "from sklearn.model_selection import train_test_split\n",
    "from sklearn.preprocessing import StandardScaler\n",
    "from sklearn.linear_model import LogisticRegression\n",
    "from sklearn.metrics import f1_score\n",
    "\n",
    "from sklearn.ensemble import RandomForestClassifier\n",
    "from sklearn.metrics import classification_report, accuracy_score"
   ]
  },
  {
   "cell_type": "code",
   "execution_count": 16,
   "id": "bea7e427-a5cf-4ca9-89e0-8b190dd11812",
   "metadata": {},
   "outputs": [],
   "source": [
    "X_data =  train_normal_data_layer + train_adv_data_layer\n",
    "Y_data = [1] * len(train_normal_data_layer) + [0] * len(train_adv_data_layer)"
   ]
  },
  {
   "cell_type": "code",
   "execution_count": null,
   "id": "a8f018f7-c1d1-44bf-89de-49206d073ea8",
   "metadata": {},
   "outputs": [],
   "source": [
    "# Data Preprocessing\n",
    "scaler = StandardScaler()\n",
    "X_scaled = scaler.fit_transform(X_data)\n",
    "\n",
    "X_train, X_test, y_train, y_test = train_test_split(X_scaled, Y_data, test_size=0.623, random_state=42)\n",
    "\n",
    "model =  LogisticRegression()\n",
    "\n",
    "model.fit(X_train, y_train)\n",
    "\n",
    "y_pred = model.predict(X_test)\n",
    "\n",
    "print(classification_report(y_test, y_pred))\n"
   ]
  },
  {
   "cell_type": "code",
   "execution_count": 18,
   "id": "8a3753d3-01ac-425e-a136-686807624a60",
   "metadata": {},
   "outputs": [],
   "source": [
    "import os\n",
    "import numpy as np\n",
    "from scipy.stats import kurtosis\n",
    "\n",
    "train_adv_data_layer = []\n",
    "for file in os.listdir(train_adv_path):\n",
    "    with open(train_adv_path+file, 'r') as f:\n",
    "        temp = json.load(f)\n",
    "        train_adv_data_layer.append(np.array(temp['neuronAIE0']) - temp[\"neuronlogits0\"])\n",
    "import os\n",
    "train_normal_data_layer = []\n",
    "for file in os.listdir(train_normal_path):\n",
    "    with open(train_normal_path+file, 'r') as f:\n",
    "        temp = json.load(f)\n",
    "        train_normal_data_layer.append(np.array(temp['neuronAIE0']) - temp[\"neuronlogits0\"])"
   ]
  },
  {
   "cell_type": "code",
   "execution_count": 19,
   "id": "14d08dad-178f-4d46-a3ab-f2ea833acef8",
   "metadata": {},
   "outputs": [],
   "source": [
    "from scipy.stats import kurtosis\n",
    "adv_seq = []\n",
    "normal_seq = []\n",
    "for seq in train_adv_data_layer:\n",
    "    adv_seq.append(kurtosis(seq))\n",
    "for seq in train_normal_data_layer:\n",
    "    normal_seq.append(kurtosis(seq))"
   ]
  },
  {
   "cell_type": "code",
   "execution_count": null,
   "id": "a4571223-4be9-40ee-a03e-6bdfda171736",
   "metadata": {},
   "outputs": [],
   "source": [
    "data = adv_seq\n",
    "mean = np.mean(data) \n",
    "\n",
    "median = np.median(data)\n",
    "\n",
    "variance = np.var(data)  \n",
    "\n",
    "std = np.std(data)\n",
    "\n",
    "max_val = np.max(data)\n",
    "min_val = np.min(data)\n"
   ]
  },
  {
   "cell_type": "code",
   "execution_count": null,
   "id": "a4764537-dbd8-4272-9af0-70477903432a",
   "metadata": {},
   "outputs": [],
   "source": [
    "data = normal_seq\n",
    "mean = np.mean(data) \n",
    "\n",
    "median = np.median(data)\n",
    "\n",
    "variance = np.var(data)  \n",
    "\n",
    "std = np.std(data)\n",
    "\n",
    "max_val = np.max(data)\n",
    "min_val = np.min(data)\n"
   ]
  },
  {
   "cell_type": "code",
   "execution_count": null,
   "id": "2a319685-6c16-4ba3-97b6-cbc730a45e8b",
   "metadata": {},
   "outputs": [],
   "source": []
  }
 ],
 "metadata": {
  "kernelspec": {
   "display_name": "Python 3 (ipykernel)",
   "language": "python",
   "name": "python3"
  },
  "language_info": {
   "codemirror_mode": {
    "name": "ipython",
    "version": 3
   },
   "file_extension": ".py",
   "mimetype": "text/x-python",
   "name": "python",
   "nbconvert_exporter": "python",
   "pygments_lexer": "ipython3",
   "version": "3.8.10"
  }
 },
 "nbformat": 4,
 "nbformat_minor": 5
}
